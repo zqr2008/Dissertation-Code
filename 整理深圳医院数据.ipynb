{
 "metadata": {
  "language_info": {
   "codemirror_mode": {
    "name": "ipython",
    "version": 3
   },
   "file_extension": ".py",
   "mimetype": "text/x-python",
   "name": "python",
   "nbconvert_exporter": "python",
   "pygments_lexer": "ipython3",
   "version": "3.8.3-final"
  },
  "orig_nbformat": 2,
  "kernelspec": {
   "name": "python3",
   "display_name": "Python 3"
  }
 },
 "nbformat": 4,
 "nbformat_minor": 2,
 "cells": [
  {
   "cell_type": "code",
   "execution_count": null,
   "metadata": {},
   "outputs": [],
   "source": [
    "import pandas as pd \n",
    "import numpy as np \n",
    "df=pd.read_excel(r\"C:\\Users\\mjdee\\hello\\step1_learning\\shenzhen_data\\数据(1).xlsx\")\n",
    "df.head()\n",
    "pd.set_option('display.max_columns', None)\n",
    "#展示所有列\n",
    "#df为原始的化验数据dataframe"
   ]
  },
  {
   "cell_type": "code",
   "execution_count": null,
   "metadata": {},
   "outputs": [],
   "source": [
    "name_patient=df['Unnamed: 1']\n",
    "gender=df['Unnamed: 3']\n",
    "age_patient=df['Unnamed: 4']\n",
    "report_time=df['报告时间']\n",
    "lab_order=df['检验项目']\n",
    "lab_result=df['结果']\n",
    "#两表中变量对应名称关系"
   ]
  },
  {
   "cell_type": "code",
   "execution_count": null,
   "metadata": {},
   "outputs": [],
   "source": [
    "df1=pd.DataFrame({'name_patient':df['Unnamed: 1'],'gender':df['Unnamed: 3'],'age_patient':df['Unnamed: 4'],\n",
    "                  'report_time':df['报告时间'],'lab_order':df['检验项目'],'lab_result':df['结果']})\n",
    "df1\n",
    "\n",
    "#调整化验表中的变量名称与目标表一致\n",
    "#生成改名的df1"
   ]
  },
  {
   "cell_type": "code",
   "execution_count": null,
   "metadata": {},
   "outputs": [],
   "source": [
    "df4=df1.pivot_table(index = 'name_patient',\n",
    "   ....:                columns = 'lab_order',\n",
    "   ....:                values = 'lab_result',\n",
    "   ....:                aggfunc = lambda x:x.head(1))\n",
    "df4   \n",
    "#最重要步骤：变形，长表变成宽表\n",
    "#将'name_patient'设置为唯一索引，'lab_order’设置为列变量,'lab_result'列为对应index和column的结果\n",
    "#注意！因为患者反复多次查化验，故index和column的组合不为唯一，所以用pivot_table方法，aggfunc函数表示调用第一个JI项目提出最早化验）"
   ]
  },
  {
   "cell_type": "code",
   "execution_count": null,
   "metadata": {},
   "outputs": [],
   "source": [
    "df_sorted=pd.read_csv(r\"C:\\Users\\mjdee\\hello\\step1_learning\\shenzhen_data\\_DATA_2020-11-11_0535.csv\")\n",
    "df_sorted.describe()\n",
    "#df_sorted为读取要填充的目标表格"
   ]
  },
  {
   "cell_type": "code",
   "execution_count": null,
   "metadata": {},
   "outputs": [],
   "source": [
    "df_sorted.columns.get_loc(\"wbc\")\n",
    "#根据列名获取列所在的index位置！"
   ]
  },
  {
   "cell_type": "code",
   "execution_count": null,
   "metadata": {},
   "outputs": [],
   "source": [
    "df_index=df_sorted.iloc[:,0:6:1]\n",
    "df_index\n",
    "#将基础信息摘出来"
   ]
  },
  {
   "cell_type": "code",
   "execution_count": null,
   "metadata": {},
   "outputs": [],
   "source": [
    "df_labtitle=df_sorted.iloc[:,146::1]\n",
    "df_labtitle\n",
    "#将缺失的lab项目摘出来"
   ]
  },
  {
   "cell_type": "code",
   "execution_count": null,
   "metadata": {},
   "outputs": [],
   "source": [
    "df2=pd.concat([df_index,df_labtitle],axis=1)\n",
    "df2\n",
    "#将需要的信息整理成df2"
   ]
  },
  {
   "cell_type": "code",
   "execution_count": null,
   "metadata": {},
   "outputs": [],
   "source": [
    "df4.rename(columns={'#白细胞计数':'wbc',\n",
    "'肌酐[Cr]':'creatinine_umol_l',\n",
    "'#钾[K]':'potassium',\n",
    "'#钠[Na]':'sodium',\n",
    "'尿素[urea]':'bun_mmol_l',\n",
    "'葡萄糖[GLU]':'glucose',\n",
    "'#血红蛋白':'hgb',\n",
    "'#血小板计数':'plt',\n",
    "'总胆红素[TB]':'tbil',\n",
    "'纤维蛋白原[FIB]':'fib',\n",
    "'D-二聚体[D-D]':'ddimer',\n",
    "'嗜酸粒细胞百分率':'e_fraction',\n",
    "'嗜酸粒细胞绝对值':'e',\n",
    "'红细胞压积[HCT]':'hct',\n",
    "'平均血红蛋白含量':'mch',\n",
    "'平均血红蛋白浓度':'mchc',\n",
    "'中性粒细胞百分率':'n_fraction',\n",
    "'中性粒细胞绝对值':'n',\n",
    "'血小板压积':'thrombocytocrit',\n",
    "'淋巴细胞绝对值':'l',\n",
    "'淋巴细胞百分率':'l_fraction',\n",
    "'#丙氨酸氨基转移酶[ALT]':'alt',\n",
    "'#天门冬氨基转移酶[AST]':'ast',\n",
    "'#碱性磷酸酶[ALP]':'alp',\t\n",
    "'钙[Ca]':'ca',\n",
    "'肌酸激酶[CK]':'ck',\n",
    "'肌酸激酶MB亚型质量[CK-MB mass]':'ck_mb',\n",
    "'二氧化碳结合力[CO2-CP]':'tco2',\n",
    "'#乳酸脱氢酶[LDH]':'ldh',\n",
    "'活化部分凝血激酶时间[APTT]':'aptt',\n",
    "'PT国际标准化比值[INR]':'inr',\n",
    "'凝血酶原时间[PT]':'pt',\n",
    "'PT活动度[PT%]':'a',\n",
    "'凝血酶凝固时间[TT]':'tt',\n",
    "'#白蛋白[Alb]':'alb',\n",
    "'降钙素原[PCT]':'pct',\n",
    "},inplace=True) \n",
    "#把df4当中需要的变量换成df3中的名字"
   ]
  },
  {
   "cell_type": "code",
   "execution_count": null,
   "metadata": {},
   "outputs": [],
   "source": [
    "col_n = ['wbc','creatinine_umol_l','potassium','sodium','bun_mmol_l','glucose','hgb','plt','tbil','fib',\n",
    "'ddimer','e_fraction','e','hct','mch','mchc','n_fraction',\n",
    "'n','thrombocytocrit','l','l_fraction','alt','ast','alp',\n",
    "'ca','ck','ck_mb','tco2','ldh','aptt','inr','pt','a','tt','alb','pct']\n",
    " \n",
    "df_selected=pd.DataFrame(df4,columns = col_n)\n",
    "df_selected\n",
    "#将df4中目标变量挑选出来"
   ]
  },
  {
   "cell_type": "code",
   "execution_count": null,
   "metadata": {},
   "outputs": [],
   "source": [
    "df_merged=pd.merge(df3, df_selected, on=['name_patient'], how='inner')\n",
    "df_merged\n",
    "#注意！重要步骤！合并化验，用'name_patient'为index,作内连接"
   ]
  },
  {
   "cell_type": "code",
   "execution_count": null,
   "metadata": {},
   "outputs": [],
   "source": [
    "df_merged.columns.get_loc(\"wbc_y\")"
   ]
  },
  {
   "cell_type": "code",
   "execution_count": null,
   "metadata": {},
   "outputs": [],
   "source": [
    "df5=df_merged.iloc[:,42::1]\n",
    "df5\n",
    "#选择真正的可以匹配上的结果"
   ]
  },
  {
   "cell_type": "code",
   "execution_count": null,
   "metadata": {},
   "outputs": [],
   "source": [
    "result=df_sorted.merge(df5,on='name_patient',how='left')\n",
    "#将结果加到原始的df_sorted里面，选用左连接"
   ]
  },
  {
   "cell_type": "code",
   "execution_count": null,
   "metadata": {},
   "outputs": [],
   "source": [
    "final=result.drop_duplicates(subset=['record_id'], keep='first')\n",
    "#去除重复，可能因为笛卡尔积"
   ]
  },
  {
   "cell_type": "code",
   "execution_count": null,
   "metadata": {},
   "outputs": [],
   "source": [
    "file = open(r\"C:\\Users\\mjdee\\hello\\step1_learning\\shenzhen_data\\2020_12_9合并.xlsx\")\n",
    "outputpath=r\"C:\\Users\\mjdee\\hello\\step1_learning\\shenzhen_data\\2020_12_9合并.xlsx\"\n",
    "final.to_excel(r\"C:\\Users\\mjdee\\hello\\step1_learning\\shenzhen_data\\2020_12_9合并.xlsx\", sheet_name='Sheet1', na_rep='',\n",
    " float_format=None, columns=None, header=True, index=True, \n",
    " index_label=None, startrow=0, startcol=0, engine=None, \n",
    " merge_cells=True, encoding=None, inf_rep='inf', verbose=True, \n",
    " freeze_panes=None)\n",
    " #保存"
   ]
  }
 ]
}
